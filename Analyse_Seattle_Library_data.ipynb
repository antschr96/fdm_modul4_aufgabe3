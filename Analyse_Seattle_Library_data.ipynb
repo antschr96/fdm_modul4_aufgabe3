{
 "cells": [
  {
   "cell_type": "markdown",
   "id": "36f6145a",
   "metadata": {},
   "source": [
    "# Zertifikatskurs Forschungsdatenmanagement\n",
    "## Modul 4 -  Hacken & experimentieren mit Daten (14.11.2022 - 16.12.2022)\n",
    "\n",
    "### Aufgabe 3 - Python, Teil 2\n",
    "\n",
    "\n",
    "**Aufgabenbeschreibung:** \n",
    "Seattle Library - Datenanalyse\n",
    "\n"
   ]
  },
  {
   "cell_type": "code",
   "execution_count": 31,
   "id": "56fc67df",
   "metadata": {},
   "outputs": [],
   "source": [
    "# import necessary libraries\n",
    "import urllib.request\n",
    "import pandas as pd"
   ]
  },
  {
   "cell_type": "code",
   "execution_count": 32,
   "id": "2193306e",
   "metadata": {},
   "outputs": [
    {
     "data": {
      "text/plain": [
       "('checkout.csv', <http.client.HTTPMessage at 0x16d76ec4f70>)"
      ]
     },
     "execution_count": 32,
     "metadata": {},
     "output_type": "execute_result"
    }
   ],
   "source": [
    "# fetch data from source and sav ase csv file\n",
    "url = \"https://data.seattle.gov/resource/tmmm-ytt6.csv?$where=checkoutyear=2018&$limit=10000\"\n",
    "checkout_file = \"checkout.csv\"\n",
    "urllib.request.urlretrieve(url, checkout_file)"
   ]
  },
  {
   "cell_type": "code",
   "execution_count": 33,
   "id": "a52ea8a7",
   "metadata": {},
   "outputs": [],
   "source": [
    "# create data frame\n",
    "checkouts_df = pd.read_csv(checkout_file)\n",
    "\n",
    "# print data_frame to inspect data if necessary \n",
    "# checkouts_df"
   ]
  },
  {
   "cell_type": "markdown",
   "id": "63183ad2",
   "metadata": {},
   "source": [
    "#### Fragestellung 1: \n",
    "Gibt alle E-Books, die ausgeliehen wurden aus und schreibe sie in eine Excel-Datei. Dabei soll die Indexspalte nicht ausgegeben werden."
   ]
  },
  {
   "cell_type": "code",
   "execution_count": 34,
   "id": "5bf22547",
   "metadata": {},
   "outputs": [
    {
     "name": "stdout",
     "output_type": "stream",
     "text": [
      "DataFrame is written successfully to Excel File.\n"
     ]
    }
   ],
   "source": [
    "# Define output file\n",
    "\n",
    "output_file = \"checkout_ebooks_only.xlsx\"\n",
    "\n",
    "# Select rows with material type = EBOOK\n",
    "checkouts_ebooks_df = checkouts_df[checkouts_df[\"materialtype\"] == \"EBOOK\"]\n",
    "\n",
    "# use ExcelWriter to write file without index column\n",
    "writer = pd.ExcelWriter(output_file)\n",
    "checkouts_ebooks_df.to_excel(writer, index=False)\n",
    "writer.save()\n",
    "\n",
    "print('DataFrame is written successfully to Excel File.')"
   ]
  },
  {
   "cell_type": "markdown",
   "id": "b27df6f8",
   "metadata": {},
   "source": [
    "#### Fragestellung 2: \n",
    "Gib eine Tabelle der Medien aus, die in einem beliebigen Monat häufiger als 100 mal ausgeliehen wurden. Sortiere die Tabelle absteigend nach Häufigkeit der Ausleihen."
   ]
  },
  {
   "cell_type": "code",
   "execution_count": 35,
   "id": "59c06802",
   "metadata": {},
   "outputs": [
    {
     "data": {
      "text/html": [
       "<div>\n",
       "<style scoped>\n",
       "    .dataframe tbody tr th:only-of-type {\n",
       "        vertical-align: middle;\n",
       "    }\n",
       "\n",
       "    .dataframe tbody tr th {\n",
       "        vertical-align: top;\n",
       "    }\n",
       "\n",
       "    .dataframe thead th {\n",
       "        text-align: right;\n",
       "    }\n",
       "</style>\n",
       "<table border=\"1\" class=\"dataframe\">\n",
       "  <thead>\n",
       "    <tr style=\"text-align: right;\">\n",
       "      <th></th>\n",
       "      <th>usageclass</th>\n",
       "      <th>checkouttype</th>\n",
       "      <th>materialtype</th>\n",
       "      <th>checkoutyear</th>\n",
       "      <th>checkoutmonth</th>\n",
       "      <th>checkouts</th>\n",
       "      <th>title</th>\n",
       "      <th>isbn</th>\n",
       "      <th>creator</th>\n",
       "      <th>subjects</th>\n",
       "      <th>publisher</th>\n",
       "      <th>publicationyear</th>\n",
       "    </tr>\n",
       "  </thead>\n",
       "  <tbody>\n",
       "    <tr>\n",
       "      <th>6638</th>\n",
       "      <td>Physical</td>\n",
       "      <td>Horizon</td>\n",
       "      <td>BOOK</td>\n",
       "      <td>2018</td>\n",
       "      <td>1</td>\n",
       "      <td>540</td>\n",
       "      <td>In the midst of winter : a novel / Isabel Alle...</td>\n",
       "      <td>NaN</td>\n",
       "      <td>Allende, Isabel</td>\n",
       "      <td>College teachers Fiction, Women college teache...</td>\n",
       "      <td>Atria Books,</td>\n",
       "      <td>2017.</td>\n",
       "    </tr>\n",
       "    <tr>\n",
       "      <th>9700</th>\n",
       "      <td>Physical</td>\n",
       "      <td>Horizon</td>\n",
       "      <td>BOOK</td>\n",
       "      <td>2018</td>\n",
       "      <td>1</td>\n",
       "      <td>495</td>\n",
       "      <td>Her body and other parties : stories / Carmen ...</td>\n",
       "      <td>NaN</td>\n",
       "      <td>Machado, Carmen Maria</td>\n",
       "      <td>Women Fiction, Psychological fiction, Science ...</td>\n",
       "      <td>Graywolf Press,</td>\n",
       "      <td>[2017]</td>\n",
       "    </tr>\n",
       "    <tr>\n",
       "      <th>9255</th>\n",
       "      <td>Digital</td>\n",
       "      <td>Zinio</td>\n",
       "      <td>MAGAZINE</td>\n",
       "      <td>2018</td>\n",
       "      <td>1</td>\n",
       "      <td>354</td>\n",
       "      <td>The Economist</td>\n",
       "      <td>NaN</td>\n",
       "      <td>NaN</td>\n",
       "      <td>NaN</td>\n",
       "      <td>NaN</td>\n",
       "      <td>NaN</td>\n",
       "    </tr>\n",
       "    <tr>\n",
       "      <th>7785</th>\n",
       "      <td>Physical</td>\n",
       "      <td>Horizon</td>\n",
       "      <td>VIDEODISC</td>\n",
       "      <td>2018</td>\n",
       "      <td>1</td>\n",
       "      <td>176</td>\n",
       "      <td>Hidden figures / 20th Century Fox ; Fox 2000 P...</td>\n",
       "      <td>NaN</td>\n",
       "      <td>NaN</td>\n",
       "      <td>United States National Aeronautics and Space A...</td>\n",
       "      <td>Twentieth Century Fox Home Entertainment,</td>\n",
       "      <td>[2017]</td>\n",
       "    </tr>\n",
       "    <tr>\n",
       "      <th>6084</th>\n",
       "      <td>Physical</td>\n",
       "      <td>Horizon</td>\n",
       "      <td>BOOK</td>\n",
       "      <td>2018</td>\n",
       "      <td>1</td>\n",
       "      <td>114</td>\n",
       "      <td>George &amp; Lizzie : a novel / Nancy Pearl.</td>\n",
       "      <td>NaN</td>\n",
       "      <td>Pearl, Nancy</td>\n",
       "      <td>Married people Fiction, Domestic fiction</td>\n",
       "      <td>Touchstone,</td>\n",
       "      <td>2017.</td>\n",
       "    </tr>\n",
       "    <tr>\n",
       "      <th>3056</th>\n",
       "      <td>Digital</td>\n",
       "      <td>OverDrive</td>\n",
       "      <td>AUDIOBOOK</td>\n",
       "      <td>2018</td>\n",
       "      <td>1</td>\n",
       "      <td>106</td>\n",
       "      <td>The Underground Railroad (Oprah's Book Club): ...</td>\n",
       "      <td>NaN</td>\n",
       "      <td>Colson Whitehead</td>\n",
       "      <td>Fiction, Historical Fiction, Literature</td>\n",
       "      <td>Books on Tape</td>\n",
       "      <td>2016</td>\n",
       "    </tr>\n",
       "    <tr>\n",
       "      <th>2170</th>\n",
       "      <td>Physical</td>\n",
       "      <td>Horizon</td>\n",
       "      <td>VIDEODISC</td>\n",
       "      <td>2018</td>\n",
       "      <td>1</td>\n",
       "      <td>105</td>\n",
       "      <td>Ghostbusters / Columbia Pictures ; in associat...</td>\n",
       "      <td>NaN</td>\n",
       "      <td>NaN</td>\n",
       "      <td>Supernatural Drama, Parapsychology Drama, Feat...</td>\n",
       "      <td>Sony Pictures Home Entertainment,</td>\n",
       "      <td>[2016]</td>\n",
       "    </tr>\n",
       "  </tbody>\n",
       "</table>\n",
       "</div>"
      ],
      "text/plain": [
       "     usageclass checkouttype materialtype  checkoutyear  checkoutmonth  \\\n",
       "6638   Physical      Horizon         BOOK          2018              1   \n",
       "9700   Physical      Horizon         BOOK          2018              1   \n",
       "9255    Digital        Zinio     MAGAZINE          2018              1   \n",
       "7785   Physical      Horizon    VIDEODISC          2018              1   \n",
       "6084   Physical      Horizon         BOOK          2018              1   \n",
       "3056    Digital    OverDrive    AUDIOBOOK          2018              1   \n",
       "2170   Physical      Horizon    VIDEODISC          2018              1   \n",
       "\n",
       "      checkouts                                              title  isbn  \\\n",
       "6638        540  In the midst of winter : a novel / Isabel Alle...   NaN   \n",
       "9700        495  Her body and other parties : stories / Carmen ...   NaN   \n",
       "9255        354                                      The Economist   NaN   \n",
       "7785        176  Hidden figures / 20th Century Fox ; Fox 2000 P...   NaN   \n",
       "6084        114           George & Lizzie : a novel / Nancy Pearl.   NaN   \n",
       "3056        106  The Underground Railroad (Oprah's Book Club): ...   NaN   \n",
       "2170        105  Ghostbusters / Columbia Pictures ; in associat...   NaN   \n",
       "\n",
       "                    creator  \\\n",
       "6638        Allende, Isabel   \n",
       "9700  Machado, Carmen Maria   \n",
       "9255                    NaN   \n",
       "7785                    NaN   \n",
       "6084           Pearl, Nancy   \n",
       "3056       Colson Whitehead   \n",
       "2170                    NaN   \n",
       "\n",
       "                                               subjects  \\\n",
       "6638  College teachers Fiction, Women college teache...   \n",
       "9700  Women Fiction, Psychological fiction, Science ...   \n",
       "9255                                                NaN   \n",
       "7785  United States National Aeronautics and Space A...   \n",
       "6084           Married people Fiction, Domestic fiction   \n",
       "3056            Fiction, Historical Fiction, Literature   \n",
       "2170  Supernatural Drama, Parapsychology Drama, Feat...   \n",
       "\n",
       "                                      publisher publicationyear  \n",
       "6638                               Atria Books,           2017.  \n",
       "9700                            Graywolf Press,          [2017]  \n",
       "9255                                        NaN             NaN  \n",
       "7785  Twentieth Century Fox Home Entertainment,          [2017]  \n",
       "6084                                Touchstone,           2017.  \n",
       "3056                              Books on Tape            2016  \n",
       "2170          Sony Pictures Home Entertainment,          [2016]  "
      ]
     },
     "execution_count": 35,
     "metadata": {},
     "output_type": "execute_result"
    }
   ],
   "source": [
    "checkouts_many = checkouts_df[checkouts_df[\"checkouts\"]>=100]\n",
    "checkouts_many.sort_values(by=['checkouts'], ascending=False)"
   ]
  },
  {
   "cell_type": "markdown",
   "id": "87ec0d2e",
   "metadata": {},
   "source": [
    "### Fragestellung 3: Summiere die Ausleihzahlen nach Materialtyp auf und gib es als Chart aus (im PDF).\n"
   ]
  },
  {
   "cell_type": "code",
   "execution_count": 36,
   "id": "38ca32dc",
   "metadata": {},
   "outputs": [
    {
     "data": {
      "image/png": "[encoded data removed]",
      "text/plain": [
       "<Figure size 432x288 with 1 Axes>"
      ]
     },
     "metadata": {
      "needs_background": "light"
     },
     "output_type": "display_data"
    }
   ],
   "source": [
    "checkouts_df.groupby(\"materialtype\").checkouts.sum()\n",
    "checkout_sum_by_mattype = checkouts_df.groupby(\"materialtype\").checkouts.sum().sort_values(ascending=False)\n",
    "figure = checkout_sum_by_mattype.plot.bar(title = \"Number of loans by material type\", ylabel=\"No of loans\", xlabel=\"Material type\")\n",
    "figure.get_figure().savefig(\"no_of_loans_by_materialtype.pdf\")"
   ]
  }
 ],
 "metadata": {
  "kernelspec": {
   "display_name": "Python 3",
   "language": "python",
   "name": "python3"
  },
  "language_info": {
   "codemirror_mode": {
    "name": "ipython",
    "version": 3
   },
   "file_extension": ".py",
   "mimetype": "text/x-python",
   "name": "python",
   "nbconvert_exporter": "python",
   "pygments_lexer": "ipython3",
   "version": "3.8.8"
  }
 },
 "nbformat": 4,
 "nbformat_minor": 5
}
